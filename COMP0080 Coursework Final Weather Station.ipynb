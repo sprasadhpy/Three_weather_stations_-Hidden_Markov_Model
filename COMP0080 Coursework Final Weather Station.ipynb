{
 "cells": [
  {
   "cell_type": "markdown",
   "id": "f2c007c2-7b76-403d-b9f6-39d39a7a1d09",
   "metadata": {},
   "source": [
    "# Import Libraries"
   ]
  },
  {
   "cell_type": "code",
   "execution_count": 25,
   "id": "eaaa7eb8-80b4-478f-830f-695090bbddf4",
   "metadata": {},
   "outputs": [],
   "source": [
    "import pandas as pd #for reading csv file and data manipulation\n",
    "import numpy as np #for array operation\n",
    "import matplotlib.pyplot as plt #for plotting graphs"
   ]
  },
  {
   "cell_type": "markdown",
   "id": "81f80196-27ad-45d3-905c-7a348e00e297",
   "metadata": {},
   "source": [
    "# Import Data "
   ]
  },
  {
   "cell_type": "code",
   "execution_count": 26,
   "id": "6577a2d4-7581-4303-85ab-7b31b0ea8f1b",
   "metadata": {},
   "outputs": [
    {
     "data": {
      "text/plain": [
       "array([[1, 2, 2, ..., 0, 0, 2],\n",
       "       [1, 2, 1, ..., 1, 2, 1],\n",
       "       [1, 2, 1, ..., 2, 1, 2],\n",
       "       ...,\n",
       "       [2, 0, 1, ..., 1, 2, 0],\n",
       "       [0, 2, 0, ..., 0, 2, 2],\n",
       "       [0, 1, 1, ..., 0, 1, 1]])"
      ]
     },
     "execution_count": 26,
     "metadata": {},
     "output_type": "execute_result"
    }
   ],
   "source": [
    "df = pd.read_csv('meteo1.csv',header=None) #read and save csv file\n",
    "df = df[0].str.split(' ',expand=True).astype('int') #convert string to integer also convert sequence to 100 columns\n",
    "v  = df.values[:,:] #convert to array\n",
    "v"
   ]
  },
  {
   "cell_type": "markdown",
   "id": "d032e18a-9440-44de-a426-b914ec65100c",
   "metadata": {},
   "source": [
    "# All Functions Below"
   ]
  },
  {
   "cell_type": "code",
   "execution_count": 27,
   "id": "b4baaddb-b674-43f2-8eae-e262484d8733",
   "metadata": {},
   "outputs": [],
   "source": [
    "# function to define and intialise parameters\n",
    "\n",
    "def init_params(V,H, uniform = False):\n",
    "    if uniform:\n",
    "        ph = np.ones((H, 1))\n",
    "    else:\n",
    "        ph = np.random.random((H, 1))\n",
    "    ph = ph/ph.sum(axis=0)\n",
    "\n",
    "    if uniform:\n",
    "        pv1gh = np.ones((V, H))\n",
    "    else:\n",
    "        pv1gh = np.random.random((V, H))\n",
    "    pv1gh = pv1gh/pv1gh.sum(axis=0)\n",
    "    \n",
    "    if uniform:\n",
    "        pvgvh = np.ones((V,V, H))\n",
    "    else:\n",
    "        pvgvh = np.random.random((V,V, H))\n",
    "    pvgvh = pvgvh/pvgvh.sum(axis=0)\n",
    "    return ph , pv1gh , pvgvh"
   ]
  },
  {
   "cell_type": "code",
   "execution_count": 28,
   "id": "b70622cc-2054-494f-9ee5-39eaab6512f6",
   "metadata": {},
   "outputs": [],
   "source": [
    "def logsumexp(a, *args):\n",
    "   \n",
    "   \n",
    "   \n",
    "    \n",
    "    if len(args) == 0:\n",
    "        b = np.ones_like(a)\n",
    "    else:\n",
    "        b = args[0]\n",
    "        if np.isscalar(b):\n",
    "            b = b * np.ones_like(a)\n",
    "\n",
    "    amax = np.max(a)\n",
    "    A = a.shape[0] if len(a.shape) > 1 else 1\n",
    "    anew = amax + np.log(np.sum(np.exp(a - np.tile(amax, (A, 1))) * b, axis=0))\n",
    "\n",
    "    return anew\n",
    "\n",
    "def condexp(logp):\n",
    "    # CONDEXP: Compute p \\propto exp(logp)\n",
    "    pmax = np.max(logp, axis=0)\n",
    "    P = logp.shape[0] if len(logp.shape) > 1 else 1\n",
    "    pnew = condp(np.exp(logp - np.tile(pmax, (P, 1))))\n",
    "    \n",
    "    return pnew\n",
    "\n",
    "\n",
    "\n",
    "\n",
    "def condp(pin, distvars=None):\n",
    "\n",
    "# Generate a conditional distribution matrix, pnew, based on the positive matrix pin.\n",
    "# Ensure that the sum of probabilities across specified distribution indices is equal to 1.\n",
    "# The optional argument allows customization of the indices representing distribution variables.\n",
    "\n",
    "\n",
    "\n",
    "\n",
    "    m = np.max(pin)\n",
    "    if m > 0:\n",
    "        p = pin / m\n",
    "    else:\n",
    "        p = pin + np.finfo(float).eps  # in case all unnormalized probabilities are zero\n",
    "\n",
    "    if distvars is None:\n",
    "     \n",
    "        pnew = p / np.sum(p, 0)\n",
    "    else:\n",
    "        allvars = np.arange(pin.ndim)\n",
    "        sizevars = pin.shape\n",
    "        condvars = np.setdiff1d(allvars, distvars)\n",
    "        newp = np.transpose(pin, distvars + condvars)\n",
    "        newp = np.reshape(newp, (np.prod(sizevars[distvars]), np.prod(sizevars[condvars])))\n",
    "        newp = newp / np.tile(np.sum(newp, 0), (newp.shape[0], 1))\n",
    "        pnew = np.reshape(newp, sizevars[distvars + condvars])\n",
    "        pnew = np.transpose(pnew, distvars + condvars)\n",
    "\n",
    "    return pnew\n",
    "\n",
    "\n"
   ]
  },
  {
   "cell_type": "code",
   "execution_count": 29,
   "id": "1018c129-dcd5-4556-83db-ff1793469430",
   "metadata": {},
   "outputs": [],
   "source": [
    "def fit_mixture_of_markov_chains(uniform=False):\n",
    "    V=3\n",
    "    H=3\n",
    "    pi,A,B = init_params(V,H,uniform=uniform) #intial parameters\n",
    "    \n",
    "    pi_old=[]\n",
    "    ll=[]\n",
    "    loglik_iter = []\n",
    "    eps = 1e-20 #epsilon takes care of underflow\n",
    "\n",
    "    for i in range(30):\n",
    "        # E step Starts here\n",
    "        pi_stat = np.zeros((H,1))\n",
    "        A_stat =np.zeros((V,H));\n",
    "        B_stat =np.zeros((V,V,H));\n",
    "        loglik=0\n",
    "        pi_old=[]\n",
    "        for n in range(v.shape[0]): #iterate through every observation\n",
    "            \n",
    "            lpi_old = np.log(A[[v[n][0]],:].T+eps)+np.log(pi) #for the first oobservation there is no past data \n",
    "            \n",
    "            for t in range(1,v.shape[1]): #iterate through all times from 1 till end\n",
    "                \n",
    "                lpi_old = lpi_old +(np.log(B[v[n][[t]], v[n][[t-1]], :])).reshape(-1,1) #log addition \n",
    "                    \n",
    "            pi_old.append(condexp(lpi_old)) #append to pi_old by exponentiating\n",
    "            \n",
    "            loglik = loglik + logsumexp(lpi_old,np.ones((H,1))).flatten().sum() #calculate log liklihood\n",
    "            \n",
    "           \n",
    "            pi_stat = pi_stat + pi_old[n]\n",
    "            A_stat[v[n][[0]],:] = A_stat[v[n][[0]],:]+ pi_old[n].T\n",
    "            \n",
    "           \n",
    "            for t in range(1,v.shape[1]):\n",
    "                B_stat[v[n][t], v[n][t-1], :] = B_stat[v[n][t], v[n][t-1], :]  + np.squeeze(pi_old[n])\n",
    "    \n",
    "              \n",
    "    \t# M step\t\n",
    "        pi = condp(pi_stat)\n",
    "        A = condp(A_stat)\n",
    "        B = condp(B_stat)\n",
    "        loglik_iter.append(loglik)\n",
    "    return loglik_iter, pi, A, B\n"
   ]
  },
  {
   "cell_type": "code",
   "execution_count": 30,
   "id": "cdaed2df-cb14-4188-a735-839d382c860d",
   "metadata": {},
   "outputs": [],
   "source": [
    "def loglik_out(data,A,pi,B):\n",
    "    pi_old=[]\n",
    "    H=3\n",
    "    ll = []\n",
    "    obs =[]\n",
    "    for n in range(data.shape[0]):\n",
    "        lpi_old = np.log(A[[data[n][0]],:].T)+np.log(pi)\n",
    "          \n",
    "        for t in range(1,data.shape[1]):\n",
    "            lpi_old = lpi_old +(np.log(B[data[n][[t]], data[n][[t-1]], :])).reshape(-1,1)\n",
    "    \n",
    "        loglik = logsumexp(lpi_old,np.ones((A.shape[0],1))).flatten().sum()\n",
    "        ll.append(loglik)\n",
    "        obs.append(n+1)\n",
    "    return pd.DataFrame(list(zip(obs,ll)),\n",
    "               columns =['Observation Number', 'Log Likelihood'])"
   ]
  },
  {
   "cell_type": "code",
   "execution_count": 31,
   "id": "abc8fd2c-c023-4dfb-b839-509c87f9a254",
   "metadata": {},
   "outputs": [],
   "source": [
    "def log_posterior(data,A,pi,B):\n",
    "    pi_old=[]\n",
    "    H=3\n",
    "    ll = []\n",
    "    obs =[]\n",
    "    my_res = []\n",
    "    my_res_log = []\n",
    "    vals =[]\n",
    "    all_lpi_old = []\n",
    " \n",
    "    for n in range(data.shape[0]):\n",
    "        lpi_old = np.log(A[[data[n][0]],:].T )+np.log(pi)\n",
    "            \n",
    "        for t in range(1,data.shape[1]):\n",
    "\n",
    "            lpi_old = lpi_old +(np.log(B[data[n][[t]], data[n][[t-1]], :])).reshape(-1,1)\n",
    "        all_lpi_old.append(lpi_old)\n",
    "        my_res_log.append(condexp(lpi_old))\n",
    "        my_res.append(np.log(condexp(lpi_old)))\n",
    "        vals.append(np.argmax(lpi_old))\n",
    "    return my_res , my_res_log, vals, all_lpi_old"
   ]
  },
  {
   "cell_type": "markdown",
   "id": "ce39968c-4539-4945-9143-059fb9b70895",
   "metadata": {},
   "source": [
    "# All Outputs below"
   ]
  },
  {
   "cell_type": "code",
   "execution_count": 32,
   "id": "aceed6bf-00e7-4be5-83c7-959152a1da81",
   "metadata": {},
   "outputs": [],
   "source": [
    "all_loglik_iter, all_pi, all_A, all_B = [], [], [], []\n",
    "for _ in range(10):\n",
    "    loglik_iter, pi, A, B = fit_mixture_of_markov_chains()\n",
    "    all_loglik_iter.append(loglik_iter)\n",
    "    all_pi.append(pi)\n",
    "    all_A.append(A)\n",
    "    all_B.append(B)"
   ]
  },
  {
   "cell_type": "code",
   "execution_count": 33,
   "id": "1f9ac891-3fd2-4e9e-bca0-5e08f87c84a2",
   "metadata": {},
   "outputs": [
    {
     "name": "stdout",
     "output_type": "stream",
     "text": [
      "[[0.29969894]\n",
      " [0.192     ]\n",
      " [0.50830106]]\n"
     ]
    }
   ],
   "source": [
    "which_idx = -5\n",
    "print(all_pi[which_idx])\n",
    "pi, A, B = all_pi[which_idx], all_A[which_idx], all_B[which_idx]"
   ]
  },
  {
   "cell_type": "code",
   "execution_count": 34,
   "id": "566c2255-06a0-4e89-b32f-16f09fe3605e",
   "metadata": {},
   "outputs": [],
   "source": [
    "loglik_iter_u, pi_u, A_u, B_u = fit_mixture_of_markov_chains(uniform = True)"
   ]
  },
  {
   "cell_type": "code",
   "execution_count": 35,
   "id": "dee09f52-4bf3-4265-97f8-afed898f82ce",
   "metadata": {},
   "outputs": [
    {
     "data": {
      "image/png": "[encoded data removed]",
      "text/plain": [
       "<Figure size 1500x800 with 1 Axes>"
      ]
     },
     "metadata": {},
     "output_type": "display_data"
    }
   ],
   "source": [
    "plt.figure(figsize=(15,8))\n",
    "plt.rcParams.update({'font.size': 18})\n",
    "for ll in all_loglik_iter:\n",
    "    plt.plot(np.array(ll), alpha=0.5)\n",
    "m_log_lik = np.array(all_loglik_iter).mean(axis=0)\n",
    "v_log_lik = np.array(all_loglik_iter).std(axis=0)\n",
    "#plt.fill_between(np.arange(len(m_log_lik)), m_log_lik-0.5*v_log_lik, m_log_lik+0.5*v_log_lik, alpha = 0.4)\n",
    "plt.plot(loglik_iter_u, color = 'r', label = 'Uniform Distribution Initialisation')\n",
    "plt.xlabel('Number of Iterations')\n",
    "plt.ylabel('Joint Log Likelihood')\n",
    "plt.grid()\n",
    "plt.legend()\n",
    "plt.savefig('llgraph.png')\n",
    "plt.show()"
   ]
  },
  {
   "cell_type": "markdown",
   "id": "624ae483-5648-4fb1-b768-afb48a34101c",
   "metadata": {},
   "source": [
    "# All the parameters from mixture of markov chains based on unifrom initialisation of parameters "
   ]
  },
  {
   "cell_type": "code",
   "execution_count": 36,
   "id": "cc9c010d-dfd9-4e94-bd28-1ed4049625f1",
   "metadata": {},
   "outputs": [
    {
     "name": "stdout",
     "output_type": "stream",
     "text": [
      "[[0.33333333]\n",
      " [0.33333333]\n",
      " [0.33333333]] [[0.374 0.374 0.374]\n",
      " [0.404 0.404 0.404]\n",
      " [0.222 0.222 0.222]] [[[0.15977377 0.15977377 0.15977377]\n",
      "  [0.14452926 0.14452926 0.14452926]\n",
      "  [0.48703845 0.48703845 0.48703845]]\n",
      "\n",
      " [[0.30597384 0.30597384 0.30597384]\n",
      "  [0.28346056 0.28346056 0.28346056]\n",
      "  [0.35019099 0.35019099 0.35019099]]\n",
      "\n",
      " [[0.53425239 0.53425239 0.53425239]\n",
      "  [0.57201018 0.57201018 0.57201018]\n",
      "  [0.16277056 0.16277056 0.16277056]]]\n"
     ]
    }
   ],
   "source": [
    "print(pi_u, A_u, B_u)"
   ]
  },
  {
   "cell_type": "code",
   "execution_count": 37,
   "id": "091fe35f-c0a2-4bac-b758-c123d4b25d38",
   "metadata": {},
   "outputs": [
    {
     "name": "stdout",
     "output_type": "stream",
     "text": [
      "[[0.3333]\n",
      " [0.3333]\n",
      " [0.3333]]\n",
      "........\n",
      "[[0.374 0.374 0.374]\n",
      " [0.404 0.404 0.404]\n",
      " [0.222 0.222 0.222]]\n",
      "........\n",
      "[[[0.1598 0.1598 0.1598]\n",
      "  [0.1445 0.1445 0.1445]\n",
      "  [0.487  0.487  0.487 ]]\n",
      "\n",
      " [[0.306  0.306  0.306 ]\n",
      "  [0.2835 0.2835 0.2835]\n",
      "  [0.3502 0.3502 0.3502]]\n",
      "\n",
      " [[0.5343 0.5343 0.5343]\n",
      "  [0.572  0.572  0.572 ]\n",
      "  [0.1628 0.1628 0.1628]]]\n"
     ]
    }
   ],
   "source": [
    "print(pi_u.round(4))\n",
    "print('........')\n",
    "print(A_u.round(4))\n",
    "print('........')\n",
    "print(B_u.round(4))"
   ]
  },
  {
   "cell_type": "markdown",
   "id": "e8ace297-9369-4b57-933f-a62e0d36c10d",
   "metadata": {},
   "source": [
    "# All the parameters from mixture of markov chains based on random initialisation of parameters"
   ]
  },
  {
   "cell_type": "code",
   "execution_count": 38,
   "id": "4690c3eb-1739-4b04-98cf-9d935b0737a4",
   "metadata": {},
   "outputs": [
    {
     "name": "stdout",
     "output_type": "stream",
     "text": [
      "[[0.29969894]\n",
      " [0.192     ]\n",
      " [0.50830106]] [[1.92146713e-01 4.27083333e-01 4.61171247e-01]\n",
      " [4.19251244e-01 5.72916667e-01 3.31203021e-01]\n",
      " [3.88602044e-01 1.21265181e-36 2.07625732e-01]] [[[0.05971003 0.38869863 0.07051106]\n",
      "  [0.13007012 0.2405914  0.13676591]\n",
      "  [0.41759899 0.54531568 0.5107758 ]]\n",
      "\n",
      " [[0.13950709 0.14848337 0.49465443]\n",
      "  [0.32378127 0.51545699 0.22585642]\n",
      "  [0.42784294 0.01756619 0.43723563]]\n",
      "\n",
      " [[0.80078288 0.462818   0.43483451]\n",
      "  [0.54614861 0.24395161 0.63737768]\n",
      "  [0.15455807 0.43711813 0.05198857]]]\n"
     ]
    }
   ],
   "source": [
    "print(pi, A, B)"
   ]
  },
  {
   "cell_type": "code",
   "execution_count": 39,
   "id": "6ace278b-d096-4f22-b816-5a68fc7c4c82",
   "metadata": {},
   "outputs": [
    {
     "name": "stdout",
     "output_type": "stream",
     "text": [
      "[[0.2997]\n",
      " [0.192 ]\n",
      " [0.5083]]\n",
      "........\n",
      "[[0.1921 0.4271 0.4612]\n",
      " [0.4193 0.5729 0.3312]\n",
      " [0.3886 0.     0.2076]]\n",
      "........\n",
      "[[[0.0597 0.3887 0.0705]\n",
      "  [0.1301 0.2406 0.1368]\n",
      "  [0.4176 0.5453 0.5108]]\n",
      "\n",
      " [[0.1395 0.1485 0.4947]\n",
      "  [0.3238 0.5155 0.2259]\n",
      "  [0.4278 0.0176 0.4372]]\n",
      "\n",
      " [[0.8008 0.4628 0.4348]\n",
      "  [0.5461 0.244  0.6374]\n",
      "  [0.1546 0.4371 0.052 ]]]\n"
     ]
    }
   ],
   "source": [
    "print(pi.round(4))\n",
    "print('........')\n",
    "print(A.round(4))\n",
    "print('........')\n",
    "print(B.round(4))"
   ]
  },
  {
   "cell_type": "markdown",
   "id": "b13c1f8f-6f39-40d4-9b00-a0dde1cc4d2c",
   "metadata": {},
   "source": [
    "# Log Likelihood of first 10 obervation based on random initalisation and learnt parameters"
   ]
  },
  {
   "cell_type": "code",
   "execution_count": 40,
   "id": "46208cde-a99e-4b21-b5ec-99ccab05ceb7",
   "metadata": {},
   "outputs": [],
   "source": [
    "loglik_ran = loglik_out(v,A,pi,B)"
   ]
  },
  {
   "cell_type": "code",
   "execution_count": 41,
   "id": "d4107f2e-5ccd-4757-83c0-6950c0b3aaf9",
   "metadata": {},
   "outputs": [
    {
     "name": "stdout",
     "output_type": "stream",
     "text": [
      "The log liklihood of the of the given data for calculated parameters is : -45254.5104\n"
     ]
    }
   ],
   "source": [
    "print('The log liklihood of the of the given data for calculated parameters is :',round(loglik_ran['Log Likelihood'].sum(),4))"
   ]
  },
  {
   "cell_type": "markdown",
   "id": "45df5477-4f32-49bc-b3b5-0eee0219d9c0",
   "metadata": {},
   "source": [
    "# Log Likelihood of first 10 obervation based on unifrom initalisation and learnt parameters"
   ]
  },
  {
   "cell_type": "code",
   "execution_count": 42,
   "id": "6b90c2fa-1232-48cd-a491-f3fa819f8398",
   "metadata": {},
   "outputs": [
    {
     "name": "stdout",
     "output_type": "stream",
     "text": [
      "The log liklihood of the of the given data for calculated parameters based on unifrom initialisation is : -49473.5473\n"
     ]
    }
   ],
   "source": [
    "loglik_u= loglik_out(v,A_u,pi_u,B_u)\n",
    "\n",
    "print('The log liklihood of the of the given data for calculated parameters based on unifrom initialisation is :',round(loglik_u['Log Likelihood'].sum(),4))"
   ]
  },
  {
   "cell_type": "code",
   "execution_count": 43,
   "id": "03ee8349-f1ac-4e30-b2ce-ae7c8b448095",
   "metadata": {},
   "outputs": [],
   "source": [
    "a,b,c,d = log_posterior(v,A,pi,B)\n"
   ]
  },
  {
   "cell_type": "markdown",
   "id": "854bfa83-6370-4119-b5b8-79ce8c140d9d",
   "metadata": {},
   "source": [
    "# Log Posterior , Log Posterior and Most Probable hidden state"
   ]
  },
  {
   "cell_type": "code",
   "execution_count": 44,
   "id": "342b087e-1672-49de-8606-094c3acabdae",
   "metadata": {},
   "outputs": [],
   "source": [
    "df1 = pd.DataFrame(list(map(np.ravel, a[:10])))\n",
    "df2 = pd.DataFrame(list(map(np.ravel, b[:10])))\n",
    "df3 = pd.DataFrame(list(map(np.ravel, c[:10])))"
   ]
  },
  {
   "cell_type": "code",
   "execution_count": 45,
   "id": "93129109-cb83-4478-ba30-c1110c186df3",
   "metadata": {},
   "outputs": [],
   "source": [
    "df_fin = pd.concat([df1, df2,df3],axis=1)"
   ]
  },
  {
   "cell_type": "code",
   "execution_count": 46,
   "id": "d8ec81ef-cdc3-4dbc-9e8a-3fb78ffe240d",
   "metadata": {},
   "outputs": [
    {
     "data": {
      "text/html": [
       "<div>\n",
       "<style scoped>\n",
       "    .dataframe tbody tr th:only-of-type {\n",
       "        vertical-align: middle;\n",
       "    }\n",
       "\n",
       "    .dataframe tbody tr th {\n",
       "        vertical-align: top;\n",
       "    }\n",
       "\n",
       "    .dataframe thead th {\n",
       "        text-align: right;\n",
       "    }\n",
       "</style>\n",
       "<table border=\"1\" class=\"dataframe\">\n",
       "  <thead>\n",
       "    <tr style=\"text-align: right;\">\n",
       "      <th></th>\n",
       "      <th>0</th>\n",
       "      <th>1</th>\n",
       "      <th>2</th>\n",
       "      <th>0</th>\n",
       "      <th>1</th>\n",
       "      <th>2</th>\n",
       "      <th>0</th>\n",
       "    </tr>\n",
       "  </thead>\n",
       "  <tbody>\n",
       "    <tr>\n",
       "      <th>0</th>\n",
       "      <td>-5.0547e+01</td>\n",
       "      <td>0.0000e+00</td>\n",
       "      <td>-6.8274e+01</td>\n",
       "      <td>1.1164e-22</td>\n",
       "      <td>1.0000e+00</td>\n",
       "      <td>2.2325e-30</td>\n",
       "      <td>1</td>\n",
       "    </tr>\n",
       "    <tr>\n",
       "      <th>1</th>\n",
       "      <td>-1.9073e-04</td>\n",
       "      <td>-8.2011e+01</td>\n",
       "      <td>-8.5647e+00</td>\n",
       "      <td>9.9981e-01</td>\n",
       "      <td>2.4170e-36</td>\n",
       "      <td>1.9072e-04</td>\n",
       "      <td>0</td>\n",
       "    </tr>\n",
       "    <tr>\n",
       "      <th>2</th>\n",
       "      <td>-1.2574e+01</td>\n",
       "      <td>-1.0404e+02</td>\n",
       "      <td>-3.4614e-06</td>\n",
       "      <td>3.4614e-06</td>\n",
       "      <td>6.5542e-46</td>\n",
       "      <td>1.0000e+00</td>\n",
       "      <td>2</td>\n",
       "    </tr>\n",
       "    <tr>\n",
       "      <th>3</th>\n",
       "      <td>-1.9754e+01</td>\n",
       "      <td>-5.9341e+01</td>\n",
       "      <td>-2.6350e-09</td>\n",
       "      <td>2.6350e-09</td>\n",
       "      <td>1.6924e-26</td>\n",
       "      <td>1.0000e+00</td>\n",
       "      <td>2</td>\n",
       "    </tr>\n",
       "    <tr>\n",
       "      <th>4</th>\n",
       "      <td>-1.2043e+01</td>\n",
       "      <td>-6.8305e+01</td>\n",
       "      <td>-5.8865e-06</td>\n",
       "      <td>5.8865e-06</td>\n",
       "      <td>2.1644e-30</td>\n",
       "      <td>9.9999e-01</td>\n",
       "      <td>2</td>\n",
       "    </tr>\n",
       "    <tr>\n",
       "      <th>5</th>\n",
       "      <td>-3.7588e-05</td>\n",
       "      <td>-7.2571e+01</td>\n",
       "      <td>-1.0189e+01</td>\n",
       "      <td>9.9996e-01</td>\n",
       "      <td>3.0407e-32</td>\n",
       "      <td>3.7587e-05</td>\n",
       "      <td>0</td>\n",
       "    </tr>\n",
       "    <tr>\n",
       "      <th>6</th>\n",
       "      <td>-4.2705e+01</td>\n",
       "      <td>0.0000e+00</td>\n",
       "      <td>-6.3361e+01</td>\n",
       "      <td>2.8410e-19</td>\n",
       "      <td>1.0000e+00</td>\n",
       "      <td>3.0386e-28</td>\n",
       "      <td>1</td>\n",
       "    </tr>\n",
       "    <tr>\n",
       "      <th>7</th>\n",
       "      <td>-1.8721e+01</td>\n",
       "      <td>-8.0554e+01</td>\n",
       "      <td>-7.4048e-09</td>\n",
       "      <td>7.4048e-09</td>\n",
       "      <td>1.0376e-35</td>\n",
       "      <td>1.0000e+00</td>\n",
       "      <td>2</td>\n",
       "    </tr>\n",
       "    <tr>\n",
       "      <th>8</th>\n",
       "      <td>-1.2664e+01</td>\n",
       "      <td>-1.6169e+02</td>\n",
       "      <td>-3.1637e-06</td>\n",
       "      <td>3.1637e-06</td>\n",
       "      <td>6.0215e-71</td>\n",
       "      <td>1.0000e+00</td>\n",
       "      <td>2</td>\n",
       "    </tr>\n",
       "    <tr>\n",
       "      <th>9</th>\n",
       "      <td>-1.3023e+01</td>\n",
       "      <td>-8.4823e+01</td>\n",
       "      <td>-2.2099e-06</td>\n",
       "      <td>2.2099e-06</td>\n",
       "      <td>1.4514e-37</td>\n",
       "      <td>1.0000e+00</td>\n",
       "      <td>2</td>\n",
       "    </tr>\n",
       "  </tbody>\n",
       "</table>\n",
       "</div>"
      ],
      "text/plain": [
       "            0           1           2          0          1          2  0\n",
       "0 -5.0547e+01  0.0000e+00 -6.8274e+01 1.1164e-22 1.0000e+00 2.2325e-30  1\n",
       "1 -1.9073e-04 -8.2011e+01 -8.5647e+00 9.9981e-01 2.4170e-36 1.9072e-04  0\n",
       "2 -1.2574e+01 -1.0404e+02 -3.4614e-06 3.4614e-06 6.5542e-46 1.0000e+00  2\n",
       "3 -1.9754e+01 -5.9341e+01 -2.6350e-09 2.6350e-09 1.6924e-26 1.0000e+00  2\n",
       "4 -1.2043e+01 -6.8305e+01 -5.8865e-06 5.8865e-06 2.1644e-30 9.9999e-01  2\n",
       "5 -3.7588e-05 -7.2571e+01 -1.0189e+01 9.9996e-01 3.0407e-32 3.7587e-05  0\n",
       "6 -4.2705e+01  0.0000e+00 -6.3361e+01 2.8410e-19 1.0000e+00 3.0386e-28  1\n",
       "7 -1.8721e+01 -8.0554e+01 -7.4048e-09 7.4048e-09 1.0376e-35 1.0000e+00  2\n",
       "8 -1.2664e+01 -1.6169e+02 -3.1637e-06 3.1637e-06 6.0215e-71 1.0000e+00  2\n",
       "9 -1.3023e+01 -8.4823e+01 -2.2099e-06 2.2099e-06 1.4514e-37 1.0000e+00  2"
      ]
     },
     "execution_count": 46,
     "metadata": {},
     "output_type": "execute_result"
    }
   ],
   "source": [
    "df_fin"
   ]
  },
  {
   "cell_type": "code",
   "execution_count": 47,
   "id": "a6d2a4a6-a516-43e9-81ed-d4a0a8ee7b92",
   "metadata": {},
   "outputs": [
    {
     "data": {
      "text/html": [
       "<div>\n",
       "<style scoped>\n",
       "    .dataframe tbody tr th:only-of-type {\n",
       "        vertical-align: middle;\n",
       "    }\n",
       "\n",
       "    .dataframe tbody tr th {\n",
       "        vertical-align: top;\n",
       "    }\n",
       "\n",
       "    .dataframe thead th {\n",
       "        text-align: right;\n",
       "    }\n",
       "</style>\n",
       "<table border=\"1\" class=\"dataframe\">\n",
       "  <thead>\n",
       "    <tr style=\"text-align: right;\">\n",
       "      <th></th>\n",
       "      <th>0</th>\n",
       "      <th>1</th>\n",
       "      <th>2</th>\n",
       "      <th>0</th>\n",
       "      <th>1</th>\n",
       "      <th>2</th>\n",
       "      <th>0</th>\n",
       "    </tr>\n",
       "  </thead>\n",
       "  <tbody>\n",
       "    <tr>\n",
       "      <th>0</th>\n",
       "      <td>-5.0547e+01</td>\n",
       "      <td>0.0000e+00</td>\n",
       "      <td>-6.8274e+01</td>\n",
       "      <td>1.1164e-22</td>\n",
       "      <td>1.0000e+00</td>\n",
       "      <td>2.2325e-30</td>\n",
       "      <td>1</td>\n",
       "    </tr>\n",
       "    <tr>\n",
       "      <th>1</th>\n",
       "      <td>-1.9073e-04</td>\n",
       "      <td>-8.2011e+01</td>\n",
       "      <td>-8.5647e+00</td>\n",
       "      <td>9.9981e-01</td>\n",
       "      <td>2.4170e-36</td>\n",
       "      <td>1.9072e-04</td>\n",
       "      <td>0</td>\n",
       "    </tr>\n",
       "    <tr>\n",
       "      <th>2</th>\n",
       "      <td>-1.2574e+01</td>\n",
       "      <td>-1.0404e+02</td>\n",
       "      <td>-3.4614e-06</td>\n",
       "      <td>3.4614e-06</td>\n",
       "      <td>6.5542e-46</td>\n",
       "      <td>1.0000e+00</td>\n",
       "      <td>2</td>\n",
       "    </tr>\n",
       "    <tr>\n",
       "      <th>3</th>\n",
       "      <td>-1.9754e+01</td>\n",
       "      <td>-5.9341e+01</td>\n",
       "      <td>-2.6350e-09</td>\n",
       "      <td>2.6350e-09</td>\n",
       "      <td>1.6924e-26</td>\n",
       "      <td>1.0000e+00</td>\n",
       "      <td>2</td>\n",
       "    </tr>\n",
       "    <tr>\n",
       "      <th>4</th>\n",
       "      <td>-1.2043e+01</td>\n",
       "      <td>-6.8305e+01</td>\n",
       "      <td>-5.8865e-06</td>\n",
       "      <td>5.8865e-06</td>\n",
       "      <td>2.1644e-30</td>\n",
       "      <td>9.9999e-01</td>\n",
       "      <td>2</td>\n",
       "    </tr>\n",
       "    <tr>\n",
       "      <th>5</th>\n",
       "      <td>-3.7588e-05</td>\n",
       "      <td>-7.2571e+01</td>\n",
       "      <td>-1.0189e+01</td>\n",
       "      <td>9.9996e-01</td>\n",
       "      <td>3.0407e-32</td>\n",
       "      <td>3.7587e-05</td>\n",
       "      <td>0</td>\n",
       "    </tr>\n",
       "    <tr>\n",
       "      <th>6</th>\n",
       "      <td>-4.2705e+01</td>\n",
       "      <td>0.0000e+00</td>\n",
       "      <td>-6.3361e+01</td>\n",
       "      <td>2.8410e-19</td>\n",
       "      <td>1.0000e+00</td>\n",
       "      <td>3.0386e-28</td>\n",
       "      <td>1</td>\n",
       "    </tr>\n",
       "    <tr>\n",
       "      <th>7</th>\n",
       "      <td>-1.8721e+01</td>\n",
       "      <td>-8.0554e+01</td>\n",
       "      <td>-7.4048e-09</td>\n",
       "      <td>7.4048e-09</td>\n",
       "      <td>1.0376e-35</td>\n",
       "      <td>1.0000e+00</td>\n",
       "      <td>2</td>\n",
       "    </tr>\n",
       "    <tr>\n",
       "      <th>8</th>\n",
       "      <td>-1.2664e+01</td>\n",
       "      <td>-1.6169e+02</td>\n",
       "      <td>-3.1637e-06</td>\n",
       "      <td>3.1637e-06</td>\n",
       "      <td>6.0215e-71</td>\n",
       "      <td>1.0000e+00</td>\n",
       "      <td>2</td>\n",
       "    </tr>\n",
       "    <tr>\n",
       "      <th>9</th>\n",
       "      <td>-1.3023e+01</td>\n",
       "      <td>-8.4823e+01</td>\n",
       "      <td>-2.2099e-06</td>\n",
       "      <td>2.2099e-06</td>\n",
       "      <td>1.4514e-37</td>\n",
       "      <td>1.0000e+00</td>\n",
       "      <td>2</td>\n",
       "    </tr>\n",
       "  </tbody>\n",
       "</table>\n",
       "</div>"
      ],
      "text/plain": [
       "            0           1           2          0          1          2  0\n",
       "0 -5.0547e+01  0.0000e+00 -6.8274e+01 1.1164e-22 1.0000e+00 2.2325e-30  1\n",
       "1 -1.9073e-04 -8.2011e+01 -8.5647e+00 9.9981e-01 2.4170e-36 1.9072e-04  0\n",
       "2 -1.2574e+01 -1.0404e+02 -3.4614e-06 3.4614e-06 6.5542e-46 1.0000e+00  2\n",
       "3 -1.9754e+01 -5.9341e+01 -2.6350e-09 2.6350e-09 1.6924e-26 1.0000e+00  2\n",
       "4 -1.2043e+01 -6.8305e+01 -5.8865e-06 5.8865e-06 2.1644e-30 9.9999e-01  2\n",
       "5 -3.7588e-05 -7.2571e+01 -1.0189e+01 9.9996e-01 3.0407e-32 3.7587e-05  0\n",
       "6 -4.2705e+01  0.0000e+00 -6.3361e+01 2.8410e-19 1.0000e+00 3.0386e-28  1\n",
       "7 -1.8721e+01 -8.0554e+01 -7.4048e-09 7.4048e-09 1.0376e-35 1.0000e+00  2\n",
       "8 -1.2664e+01 -1.6169e+02 -3.1637e-06 3.1637e-06 6.0215e-71 1.0000e+00  2\n",
       "9 -1.3023e+01 -8.4823e+01 -2.2099e-06 2.2099e-06 1.4514e-37 1.0000e+00  2"
      ]
     },
     "execution_count": 47,
     "metadata": {},
     "output_type": "execute_result"
    }
   ],
   "source": [
    "pd.set_option('display.float_format', lambda x: '{:.4e}'.format(x))\n",
    "df_fin"
   ]
  },
  {
   "cell_type": "code",
   "execution_count": 48,
   "id": "5d17dc0d-79e7-4617-885f-2c20ea64bad3",
   "metadata": {},
   "outputs": [],
   "source": [
    "df_fin.to_csv('distribution_final.csv')"
   ]
  }
 ],
 "metadata": {
  "kernelspec": {
   "display_name": "dashboard",
   "language": "python",
   "name": "dashboard"
  },
  "language_info": {
   "codemirror_mode": {
    "name": "ipython",
    "version": 3
   },
   "file_extension": ".py",
   "mimetype": "text/x-python",
   "name": "python",
   "nbconvert_exporter": "python",
   "pygments_lexer": "ipython3",
   "version": "3.11.4"
  }
 },
 "nbformat": 4,
 "nbformat_minor": 5
}
